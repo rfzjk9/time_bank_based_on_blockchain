{
 "cells": [
  {
   "cell_type": "code",
   "metadata": {
    "ExecuteTime": {
     "end_time": "2024-04-08T07:02:55.017538Z",
     "start_time": "2024-04-08T07:02:54.259313Z"
    }
   },
   "source": [
    "from model.tot import private_transfer\n",
    "from model.deal_job import post_job, get_job, finish_job, cancel_order, delete_job\n",
    "from model import deal_job"
   ],
   "outputs": [],
   "execution_count": 1
  },
  {
   "cell_type": "code",
   "metadata": {
    "ExecuteTime": {
     "end_time": "2024-04-05T16:58:52.823186Z",
     "start_time": "2024-04-05T16:58:52.740128Z"
    }
   },
   "source": [
    "private_transfer('0x1862EB3030659e2c3c029197835c3d8710b4D10a', '0xdA20Cb5AFaBe5D57cFcf96343C1E78F6748B240C', 100000, '0xd9d4365e6115144d5ad50ad5af7eb348b991b2e2d9a857d2c0ff074b8b6d86f0')"
   ],
   "outputs": [
    {
     "data": {
      "text/plain": [
       "True"
      ]
     },
     "execution_count": 3,
     "metadata": {},
     "output_type": "execute_result"
    }
   ],
   "execution_count": 3
  },
  {
   "cell_type": "code",
   "metadata": {
    "ExecuteTime": {
     "end_time": "2024-04-08T07:03:06.784042Z",
     "start_time": "2024-04-08T07:03:06.742697Z"
    }
   },
   "source": "post_job(\"fasjdhasjkh爱国守法给\", \"号大事发生码\", 'admin1', 10)",
   "outputs": [
    {
     "data": {
      "text/plain": [
       "False"
      ]
     },
     "execution_count": 2,
     "metadata": {},
     "output_type": "execute_result"
    }
   ],
   "execution_count": 2
  },
  {
   "cell_type": "code",
   "execution_count": 4,
   "metadata": {},
   "outputs": [
    {
     "data": {
      "text/plain": [
       "True"
      ]
     },
     "execution_count": 4,
     "metadata": {},
     "output_type": "execute_result"
    }
   ],
   "source": [
    "get_job(7, 'ad')"
   ]
  },
  {
   "cell_type": "code",
   "metadata": {
    "ExecuteTime": {
     "end_time": "2024-04-05T17:10:41.816390Z",
     "start_time": "2024-04-05T17:10:41.763449Z"
    }
   },
   "source": [
    "finish_job(3)"
   ],
   "outputs": [
    {
     "data": {
      "text/plain": [
       "True"
      ]
     },
     "execution_count": 5,
     "metadata": {},
     "output_type": "execute_result"
    }
   ],
   "execution_count": 5
  },
  {
   "cell_type": "code",
   "metadata": {
    "ExecuteTime": {
     "end_time": "2024-04-05T17:10:44.153198Z",
     "start_time": "2024-04-05T17:10:44.136058Z"
    }
   },
   "source": [
    "get_balance('0xb4F2513ba55B16bcAfE359FbCAeB96e8C224a136')"
   ],
   "outputs": [
    {
     "data": {
      "text/plain": [
       "20"
      ]
     },
     "execution_count": 6,
     "metadata": {},
     "output_type": "execute_result"
    }
   ],
   "execution_count": 6
  },
  {
   "cell_type": "code",
   "metadata": {
    "ExecuteTime": {
     "end_time": "2024-04-05T17:13:35.480965Z",
     "start_time": "2024-04-05T17:13:35.445351Z"
    }
   },
   "source": "get_job(5, 'ad')",
   "outputs": [
    {
     "name": "stdout",
     "output_type": "stream",
     "text": [
      "((1,),)\n"
     ]
    },
    {
     "data": {
      "text/plain": [
       "False"
      ]
     },
     "execution_count": 6,
     "metadata": {},
     "output_type": "execute_result"
    }
   ],
   "execution_count": 6
  },
  {
   "cell_type": "code",
   "execution_count": 6,
   "metadata": {},
   "outputs": [
    {
     "data": {
      "text/plain": [
       "True"
      ]
     },
     "execution_count": 6,
     "metadata": {},
     "output_type": "execute_result"
    }
   ],
   "source": [
    "cancel_order(7)"
   ]
  },
  {
   "cell_type": "code",
   "metadata": {
    "ExecuteTime": {
     "end_time": "2024-04-05T17:14:41.940117Z",
     "start_time": "2024-04-05T17:14:41.901479Z"
    }
   },
   "source": "delete_job(5)",
   "outputs": [
    {
     "data": {
      "text/plain": [
       "False"
      ]
     },
     "execution_count": 8,
     "metadata": {},
     "output_type": "execute_result"
    }
   ],
   "execution_count": 8
  },
  {
   "metadata": {},
   "cell_type": "code",
   "outputs": [],
   "execution_count": null,
   "source": ""
  }
 ],
 "metadata": {
  "kernelspec": {
   "display_name": "web",
   "language": "python",
   "name": "python3"
  },
  "language_info": {
   "codemirror_mode": {
    "name": "ipython",
    "version": 3
   },
   "file_extension": ".py",
   "mimetype": "text/x-python",
   "name": "python",
   "nbconvert_exporter": "python",
   "pygments_lexer": "ipython3",
   "version": "3.9.19"
  }
 },
 "nbformat": 4,
 "nbformat_minor": 2
}
